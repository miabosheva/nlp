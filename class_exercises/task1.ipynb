{
 "cells": [
  {
   "cell_type": "code",
   "execution_count": null,
   "metadata": {},
   "outputs": [
    {
     "name": "stdout",
     "output_type": "stream",
     "text": [
      "Collecting sentence_transformers\n",
      "  Downloading sentence-transformers-2.2.2.tar.gz (85 kB)\n",
      "     ---------------------------------------- 0.0/86.0 kB ? eta -:--:--\n",
      "     ---- ----------------------------------- 10.2/86.0 kB ? eta -:--:--\n",
      "     ------------------ ------------------- 41.0/86.0 kB 326.8 kB/s eta 0:00:01\n",
      "     ------------------------------------ - 81.9/86.0 kB 508.4 kB/s eta 0:00:01\n",
      "     -------------------------------------- 86.0/86.0 kB 482.2 kB/s eta 0:00:00\n",
      "  Preparing metadata (setup.py): started\n",
      "  Preparing metadata (setup.py): finished with status 'done'\n",
      "Requirement already satisfied: transformers<5.0.0,>=4.6.0 in c:\\users\\mia\\anaconda3\\lib\\site-packages (from sentence_transformers) (4.32.1)\n",
      "Requirement already satisfied: tqdm in c:\\users\\mia\\anaconda3\\lib\\site-packages (from sentence_transformers) (4.65.0)\n",
      "Requirement already satisfied: torch>=1.6.0 in c:\\users\\mia\\anaconda3\\lib\\site-packages (from sentence_transformers) (2.1.0+cu118)\n",
      "Requirement already satisfied: torchvision in c:\\users\\mia\\anaconda3\\lib\\site-packages (from sentence_transformers) (0.16.0+cu118)\n",
      "Requirement already satisfied: numpy in c:\\users\\mia\\anaconda3\\lib\\site-packages (from sentence_transformers) (1.24.3)\n",
      "Requirement already satisfied: scikit-learn in c:\\users\\mia\\anaconda3\\lib\\site-packages (from sentence_transformers) (1.3.0)\n",
      "Requirement already satisfied: scipy in c:\\users\\mia\\anaconda3\\lib\\site-packages (from sentence_transformers) (1.11.1)\n",
      "Requirement already satisfied: nltk in c:\\users\\mia\\anaconda3\\lib\\site-packages (from sentence_transformers) (3.8.1)\n",
      "Collecting sentencepiece (from sentence_transformers)\n",
      "  Downloading sentencepiece-0.1.99-cp311-cp311-win_amd64.whl (977 kB)\n",
      "     ---------------------------------------- 0.0/977.5 kB ? eta -:--:--\n",
      "     - ----------------------------------- 41.0/977.5 kB 960.0 kB/s eta 0:00:01\n",
      "     --- ----------------------------------- 92.2/977.5 kB 1.0 MB/s eta 0:00:01\n",
      "     ---- --------------------------------- 122.9/977.5 kB 1.2 MB/s eta 0:00:01\n",
      "     ---- --------------------------------- 122.9/977.5 kB 1.2 MB/s eta 0:00:01\n",
      "     --------- ---------------------------- 256.0/977.5 kB 1.1 MB/s eta 0:00:01\n",
      "     ----------- -------------------------- 307.2/977.5 kB 1.1 MB/s eta 0:00:01\n",
      "     --------------- ---------------------- 389.1/977.5 kB 1.2 MB/s eta 0:00:01\n",
      "     ---------------- --------------------- 419.8/977.5 kB 1.1 MB/s eta 0:00:01\n",
      "     ---------------- --------------------- 419.8/977.5 kB 1.1 MB/s eta 0:00:01\n",
      "     -------------------- ----------------- 532.5/977.5 kB 1.2 MB/s eta 0:00:01\n",
      "     --------------------- ---------------- 553.0/977.5 kB 1.2 MB/s eta 0:00:01\n",
      "     ----------------------- -------------- 614.4/977.5 kB 1.2 MB/s eta 0:00:01\n",
      "     -------------------------- ----------- 675.8/977.5 kB 1.2 MB/s eta 0:00:01\n",
      "     ---------------------------- --------- 727.0/977.5 kB 1.2 MB/s eta 0:00:01\n",
      "     ------------------------------ ------- 778.2/977.5 kB 1.2 MB/s eta 0:00:01\n",
      "     -------------------------------- ----- 839.7/977.5 kB 1.2 MB/s eta 0:00:01\n",
      "     --------------------------------- ---- 870.4/977.5 kB 1.2 MB/s eta 0:00:01\n",
      "     ------------------------------------ - 931.8/977.5 kB 1.2 MB/s eta 0:00:01\n",
      "     -------------------------------------  972.8/977.5 kB 1.2 MB/s eta 0:00:01\n",
      "     -------------------------------------- 977.5/977.5 kB 1.1 MB/s eta 0:00:00\n",
      "Requirement already satisfied: huggingface-hub>=0.4.0 in c:\\users\\mia\\anaconda3\\lib\\site-packages (from sentence_transformers) (0.15.1)\n",
      "Requirement already satisfied: filelock in c:\\users\\mia\\anaconda3\\lib\\site-packages (from huggingface-hub>=0.4.0->sentence_transformers) (3.9.0)\n",
      "Requirement already satisfied: fsspec in c:\\users\\mia\\anaconda3\\lib\\site-packages (from huggingface-hub>=0.4.0->sentence_transformers) (2023.4.0)\n",
      "Requirement already satisfied: requests in c:\\users\\mia\\anaconda3\\lib\\site-packages (from huggingface-hub>=0.4.0->sentence_transformers) (2.31.0)\n",
      "Requirement already satisfied: pyyaml>=5.1 in c:\\users\\mia\\anaconda3\\lib\\site-packages (from huggingface-hub>=0.4.0->sentence_transformers) (6.0)\n",
      "Requirement already satisfied: typing-extensions>=3.7.4.3 in c:\\users\\mia\\anaconda3\\lib\\site-packages (from huggingface-hub>=0.4.0->sentence_transformers) (4.7.1)\n",
      "Requirement already satisfied: packaging>=20.9 in c:\\users\\mia\\anaconda3\\lib\\site-packages (from huggingface-hub>=0.4.0->sentence_transformers) (23.1)\n",
      "Requirement already satisfied: sympy in c:\\users\\mia\\anaconda3\\lib\\site-packages (from torch>=1.6.0->sentence_transformers) (1.11.1)\n",
      "Requirement already satisfied: networkx in c:\\users\\mia\\anaconda3\\lib\\site-packages (from torch>=1.6.0->sentence_transformers) (3.1)\n",
      "Requirement already satisfied: jinja2 in c:\\users\\mia\\anaconda3\\lib\\site-packages (from torch>=1.6.0->sentence_transformers) (3.1.2)\n",
      "Requirement already satisfied: colorama in c:\\users\\mia\\anaconda3\\lib\\site-packages (from tqdm->sentence_transformers) (0.4.6)\n",
      "Requirement already satisfied: regex!=2019.12.17 in c:\\users\\mia\\anaconda3\\lib\\site-packages (from transformers<5.0.0,>=4.6.0->sentence_transformers) (2022.7.9)\n",
      "Requirement already satisfied: tokenizers!=0.11.3,<0.14,>=0.11.1 in c:\\users\\mia\\anaconda3\\lib\\site-packages (from transformers<5.0.0,>=4.6.0->sentence_transformers) (0.13.2)\n",
      "Requirement already satisfied: safetensors>=0.3.1 in c:\\users\\mia\\anaconda3\\lib\\site-packages (from transformers<5.0.0,>=4.6.0->sentence_transformers) (0.3.2)\n",
      "Requirement already satisfied: click in c:\\users\\mia\\anaconda3\\lib\\site-packages (from nltk->sentence_transformers) (8.0.4)\n",
      "Requirement already satisfied: joblib in c:\\users\\mia\\anaconda3\\lib\\site-packages (from nltk->sentence_transformers) (1.2.0)\n",
      "Requirement already satisfied: threadpoolctl>=2.0.0 in c:\\users\\mia\\anaconda3\\lib\\site-packages (from scikit-learn->sentence_transformers) (2.2.0)\n",
      "Requirement already satisfied: pillow!=8.3.*,>=5.3.0 in c:\\users\\mia\\anaconda3\\lib\\site-packages (from torchvision->sentence_transformers) (9.4.0)\n",
      "Requirement already satisfied: MarkupSafe>=2.0 in c:\\users\\mia\\anaconda3\\lib\\site-packages (from jinja2->torch>=1.6.0->sentence_transformers) (2.1.1)\n",
      "Requirement already satisfied: charset-normalizer<4,>=2 in c:\\users\\mia\\anaconda3\\lib\\site-packages (from requests->huggingface-hub>=0.4.0->sentence_transformers) (2.0.4)\n",
      "Requirement already satisfied: idna<4,>=2.5 in c:\\users\\mia\\anaconda3\\lib\\site-packages (from requests->huggingface-hub>=0.4.0->sentence_transformers) (3.4)\n",
      "Requirement already satisfied: urllib3<3,>=1.21.1 in c:\\users\\mia\\anaconda3\\lib\\site-packages (from requests->huggingface-hub>=0.4.0->sentence_transformers) (1.26.16)\n",
      "Requirement already satisfied: certifi>=2017.4.17 in c:\\users\\mia\\anaconda3\\lib\\site-packages (from requests->huggingface-hub>=0.4.0->sentence_transformers) (2023.7.22)\n",
      "Requirement already satisfied: mpmath>=0.19 in c:\\users\\mia\\anaconda3\\lib\\site-packages (from sympy->torch>=1.6.0->sentence_transformers) (1.3.0)\n",
      "Building wheels for collected packages: sentence_transformers\n",
      "  Building wheel for sentence_transformers (setup.py): started\n",
      "  Building wheel for sentence_transformers (setup.py): finished with status 'done'\n",
      "  Created wheel for sentence_transformers: filename=sentence_transformers-2.2.2-py3-none-any.whl size=125960 sha256=f52425e1d8bc734d1dd90c1510ac2835f82b5b552b75fa56bdf4363dd235a442\n",
      "  Stored in directory: c:\\users\\mia\\appdata\\local\\pip\\cache\\wheels\\ff\\27\\bf\\ffba8b318b02d7f691a57084ee154e26ed24d012b0c7805881\n",
      "Successfully built sentence_transformers\n",
      "Installing collected packages: sentencepiece, sentence_transformers\n",
      "Successfully installed sentence_transformers-2.2.2 sentencepiece-0.1.99\n"
     ]
    }
   ],
   "source": [
    "!pip install sentence_transformers"
   ]
  },
  {
   "cell_type": "code",
   "execution_count": 1,
   "metadata": {},
   "outputs": [],
   "source": [
    "import pandas as pd\n",
    "from transformers import AutoModelForSeq2SeqLM, AutoTokenizer"
   ]
  },
  {
   "cell_type": "code",
   "execution_count": 2,
   "metadata": {},
   "outputs": [],
   "source": [
    "model = AutoModelForSeq2SeqLM.from_pretrained('google/flan-t5-base')\n",
    "tokenizer = AutoTokenizer.from_pretrained('google/flan-t5-base')"
   ]
  },
  {
   "cell_type": "code",
   "execution_count": 4,
   "metadata": {},
   "outputs": [],
   "source": [
    "prompt = 'I saw a grandson and their grandfather last week outside the Walmart trying to book a cab on Uber. Who was not comfortable using the phone?'\n"
   ]
  },
  {
   "cell_type": "code",
   "execution_count": 5,
   "metadata": {},
   "outputs": [],
   "source": [
    "input_data = tokenizer(prompt, return_tensors='pt')\n",
    "input_ids = input_data.input_ids"
   ]
  },
  {
   "cell_type": "code",
   "execution_count": 6,
   "metadata": {},
   "outputs": [
    {
     "name": "stderr",
     "output_type": "stream",
     "text": [
      "c:\\Users\\Mia\\anaconda3\\Lib\\site-packages\\transformers\\generation\\utils.py:1254: UserWarning: Using the model-agnostic default `max_length` (=20) to control thegeneration length. We recommend setting `max_new_tokens` to control the maximum length of the generation.\n",
      "  warnings.warn(\n"
     ]
    }
   ],
   "source": [
    "output = model.generate(input_ids)\n",
    "pred_answer = tokenizer.decode(output[0])"
   ]
  },
  {
   "cell_type": "code",
   "execution_count": 7,
   "metadata": {},
   "outputs": [
    {
     "data": {
      "text/plain": [
       "'<pad> grandfather</s>'"
      ]
     },
     "execution_count": 7,
     "metadata": {},
     "output_type": "execute_result"
    }
   ],
   "source": [
    "pred_answer"
   ]
  }
 ],
 "metadata": {
  "kernelspec": {
   "display_name": "base",
   "language": "python",
   "name": "python3"
  },
  "language_info": {
   "codemirror_mode": {
    "name": "ipython",
    "version": 3
   },
   "file_extension": ".py",
   "mimetype": "text/x-python",
   "name": "python",
   "nbconvert_exporter": "python",
   "pygments_lexer": "ipython3",
   "version": "3.11.5"
  }
 },
 "nbformat": 4,
 "nbformat_minor": 2
}
