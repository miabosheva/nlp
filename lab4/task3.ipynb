{
 "cells": [
  {
   "cell_type": "code",
   "execution_count": 13,
   "metadata": {},
   "outputs": [],
   "source": [
    "import numpy as np\n",
    "import pandas as pd\n",
    "from transformers import AutoModelForSeq2SeqLM, AutoTokenizer\n",
    "from sklearn.metrics import accuracy_score, precision_score, recall_score, f1_score"
   ]
  },
  {
   "cell_type": "code",
   "execution_count": 5,
   "metadata": {},
   "outputs": [],
   "source": [
    "val_y_path = \"C:/Users/Mia/Desktop/FINKI/NLP/nlp/data/shakespeare/valid.original.nltktok\"\n",
    "val_x_path = \"C:/Users/Mia/Desktop/FINKI/NLP/nlp/data/shakespeare/valid.modern.nltktok\"\n",
    "train_y_path = \"C:/Users/Mia/Desktop/FINKI/NLP/nlp/data/shakespeare/train.original.nltktok\"\n",
    "train_x_path = \"C:/Users/Mia/Desktop/FINKI/NLP/nlp/data/shakespeare/train.modern.nltktok\"\n",
    "test_y_path = \"C:/Users/Mia/Desktop/FINKI/NLP/nlp/data/shakespeare/test.original.nltktok\"\n",
    "test_x_path = \"C:/Users/Mia/Desktop/FINKI/NLP/nlp/data/shakespeare/test.modern.nltktok\""
   ]
  },
  {
   "cell_type": "code",
   "execution_count": 12,
   "metadata": {},
   "outputs": [],
   "source": [
    "val_y = pd.read_table(val_y_path, header=None, names=[\"Sentences\"]).values.tolist()\n",
    "val_x = pd.read_table(val_x_path, header=None, names=[\"Sentences\"]).values.tolist()\n",
    "test_y = pd.read_table(test_y_path, header=None, names=[\"Sentences\"]).values.tolist()\n",
    "test_x = pd.read_table(test_x_path, header=None, names=[\"Sentences\"]).values.tolist()\n",
    "train_y = pd.read_table(train_y_path, header=None, names=[\"Sentences\"]).values.tolist()\n",
    "train_x = pd.read_table(train_x_path, header=None, names=[\"Sentences\"]).values.tolist()"
   ]
  },
  {
   "cell_type": "code",
   "execution_count": 9,
   "metadata": {},
   "outputs": [],
   "source": [
    "model = AutoModelForSeq2SeqLM.from_pretrained('google/flan-t5-base')\n",
    "tokenizer = AutoTokenizer.from_pretrained('google/flan-t5-base')"
   ]
  },
  {
   "cell_type": "code",
   "execution_count": 14,
   "metadata": {},
   "outputs": [],
   "source": [
    "def evaluate(y_test, y_pred, prompt_type, train_test_or_val):\n",
    "    accuracy = accuracy_score(y_test, y_pred)\n",
    "    precision = precision_score(y_test, y_pred)\n",
    "    recall = recall_score(y_test, y_pred)\n",
    "    f1 = f1_score(y_test, y_pred)\n",
    "\n",
    "    print(train_test_or_val + \": \" + prompt_type)\n",
    "    print(\"Accuracy:\", accuracy)\n",
    "    print(\"Precision:\", precision)\n",
    "    print(\"Recall:\", recall)\n",
    "    print(\"F1 Score:\", f1)"
   ]
  },
  {
   "cell_type": "code",
   "execution_count": null,
   "metadata": {},
   "outputs": [],
   "source": []
  }
 ],
 "metadata": {
  "kernelspec": {
   "display_name": "base",
   "language": "python",
   "name": "python3"
  },
  "language_info": {
   "codemirror_mode": {
    "name": "ipython",
    "version": 3
   },
   "file_extension": ".py",
   "mimetype": "text/x-python",
   "name": "python",
   "nbconvert_exporter": "python",
   "pygments_lexer": "ipython3",
   "version": "3.11.5"
  }
 },
 "nbformat": 4,
 "nbformat_minor": 2
}
