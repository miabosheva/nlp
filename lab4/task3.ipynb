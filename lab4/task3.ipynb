{
 "cells": [
  {
   "cell_type": "code",
   "execution_count": 1,
   "metadata": {},
   "outputs": [],
   "source": [
    "import numpy as np\n",
    "import pandas as pd\n",
    "from transformers import AutoModelForSeq2SeqLM, AutoTokenizer\n",
    "from sklearn.metrics import accuracy_score, precision_score, recall_score, f1_score"
   ]
  },
  {
   "cell_type": "code",
   "execution_count": 2,
   "metadata": {},
   "outputs": [],
   "source": [
    "val_y_path = \"C:/Users/Mia/Desktop/FINKI/NLP/nlp/data/shakespeare/valid.original.nltktok\"\n",
    "val_x_path = \"C:/Users/Mia/Desktop/FINKI/NLP/nlp/data/shakespeare/valid.modern.nltktok\"\n",
    "train_y_path = \"C:/Users/Mia/Desktop/FINKI/NLP/nlp/data/shakespeare/train.original.nltktok\"\n",
    "train_x_path = \"C:/Users/Mia/Desktop/FINKI/NLP/nlp/data/shakespeare/train.modern.nltktok\"\n",
    "test_y_path = \"C:/Users/Mia/Desktop/FINKI/NLP/nlp/data/shakespeare/test.original.nltktok\"\n",
    "test_x_path = \"C:/Users/Mia/Desktop/FINKI/NLP/nlp/data/shakespeare/test.modern.nltktok\""
   ]
  },
  {
   "cell_type": "code",
   "execution_count": 3,
   "metadata": {},
   "outputs": [],
   "source": [
    "val_y = pd.read_table(val_y_path, header=None, names=[\"Sentences\"]).values.tolist()\n",
    "val_x = pd.read_table(val_x_path, header=None, names=[\"Sentences\"]).values.tolist()\n",
    "test_y = pd.read_table(test_y_path, header=None, names=[\"Sentences\"]).values.tolist()\n",
    "test_x = pd.read_table(test_x_path, header=None, names=[\"Sentences\"]).values.tolist()\n",
    "train_y = pd.read_table(train_y_path, header=None, names=[\"Sentences\"]).values.tolist()\n",
    "train_x = pd.read_table(train_x_path, header=None, names=[\"Sentences\"]).values.tolist()"
   ]
  },
  {
   "cell_type": "code",
   "execution_count": 4,
   "metadata": {},
   "outputs": [],
   "source": [
    "model = AutoModelForSeq2SeqLM.from_pretrained('google/flan-t5-base')\n",
    "tokenizer = AutoTokenizer.from_pretrained('google/flan-t5-base')"
   ]
  },
  {
   "cell_type": "code",
   "execution_count": 6,
   "metadata": {},
   "outputs": [
    {
     "name": "stderr",
     "output_type": "stream",
     "text": [
      "[nltk_data] Downloading package wordnet to\n",
      "[nltk_data]     C:\\Users\\Mia\\AppData\\Roaming\\nltk_data...\n",
      "[nltk_data]   Package wordnet is already up-to-date!\n"
     ]
    },
    {
     "data": {
      "text/plain": [
       "True"
      ]
     },
     "execution_count": 6,
     "metadata": {},
     "output_type": "execute_result"
    }
   ],
   "source": [
    "from evaluate import load\n",
    "from nltk.translate import meteor\n",
    "from nltk import word_tokenize\n",
    "import nltk\n",
    "nltk.download('wordnet')"
   ]
  },
  {
   "cell_type": "code",
   "execution_count": 50,
   "metadata": {},
   "outputs": [],
   "source": [
    "from nltk.translate.meteor_score import single_meteor_score"
   ]
  },
  {
   "cell_type": "code",
   "execution_count": 64,
   "metadata": {},
   "outputs": [],
   "source": [
    "def evaluate_meteor_bleu(pred, ref, prompt_type, train_test_or_val):\n",
    "    print(train_test_or_val + \": \" + prompt_type)\n",
    "    \n",
    "    # BLEUscore = nltk.translate.bleu_score.sentence_bleu([ref], pred, weights = (0.5, 0.5))\n",
    "    metric = load('bleu')\n",
    "    results = metric.compute(predictions=pred, references=ref)\n",
    "    score = results['bleu']\n",
    "    print(f'BLEU score: {score}')\n",
    "\n",
    "    m_score = 0.0\n",
    "    for hyp, r in zip(pred, ref):\n",
    "        m_score += round(meteor([word_tokenize(hyp[0])], word_tokenize(r[0])), 4)\n",
    "    # m_score = single_meteor_score(ref, pred)\n",
    "\n",
    "    print(f'Meteor score: {m_score}\\n')"
   ]
  },
  {
   "cell_type": "markdown",
   "metadata": {},
   "source": [
    "Испробајте ги следните prompts:\n",
    "1. „Here is a text: {text}, which is {label1}. Here is a rewrite of the text: {text}, which \n",
    "is {label}. Rewrite the following text: {text} in {label}.“.\n",
    "2. „Here is a text: {text}, which is {label1}. Here is a rewrite of the text: {text}, which \n",
    "is not {label1}. Rewrite the following text: {text} in {label}.“.\n",
    "3. „Here is a text: {text}, which is not {label2}. Here is a rewrite of the text: {text}, \n",
    "which is {label2}. Rewrite the following text: {text} in {label}."
   ]
  },
  {
   "cell_type": "code",
   "execution_count": 55,
   "metadata": {},
   "outputs": [],
   "source": [
    "def prompt_with_prompt_type_1(sample_x, sample_y, no_of_examples):\n",
    "    pred_labels = []\n",
    "\n",
    "    for sample in sample_x:\n",
    "        example = []\n",
    "\n",
    "        label1 = 'english'\n",
    "        label2 = 'shakespearean'\n",
    "       \n",
    "        for i in range(no_of_examples):\n",
    "            english_example = sample_x[i]\n",
    "            shakespearean_example = sample_y[i]\n",
    "            result_example = f'Here is a text: {english_example}, which is {label1}. Here is a rewrite of the text: {shakespearean_example}, which is {label2}.\\n'\n",
    "            example.append(result_example)\n",
    "\n",
    "        prompt = f'{example}\\nRewrite the following text: {sample} in {label2}.'\n",
    "        \n",
    "        # print(prompt)\n",
    "\n",
    "        input_data = tokenizer(prompt, return_tensors='pt')\n",
    "        input_ids = input_data.input_ids\n",
    "        \n",
    "        output = model.generate(input_ids)\n",
    "        pred_label = tokenizer.decode(output[0])\n",
    "\n",
    "        pred_labels.append(pred_label)\n",
    "    \n",
    "    return pred_labels"
   ]
  },
  {
   "cell_type": "code",
   "execution_count": 56,
   "metadata": {},
   "outputs": [],
   "source": [
    "def prompt_with_prompt_type_2(sample_x, sample_y, no_of_examples):\n",
    "    pred_labels = []\n",
    "\n",
    "    for sample in sample_x:\n",
    "        example = []\n",
    "\n",
    "        label1 = 'english'\n",
    "        label2 = 'shakespearean'\n",
    "       \n",
    "        for i in range(no_of_examples):\n",
    "            english_example = sample_x[i]\n",
    "            shakespearean_example = sample_y[i]\n",
    "            result_example = f'Here is a text: {english_example}, which is {label1}. Here is a rewrite of the text: {shakespearean_example}, which is not {label1}.\\n'\n",
    "            example.append(result_example)\n",
    "\n",
    "        prompt = f'{example}\\nRewrite the following text: {sample} into {label2}.'\n",
    "\n",
    "        input_data = tokenizer(prompt, return_tensors='pt')\n",
    "        input_ids = input_data.input_ids\n",
    "        \n",
    "        output = model.generate(input_ids)\n",
    "        pred_label = tokenizer.decode(output[0])\n",
    "\n",
    "        pred_labels.append(pred_label)\n",
    "    \n",
    "    return pred_labels"
   ]
  },
  {
   "cell_type": "code",
   "execution_count": 57,
   "metadata": {},
   "outputs": [],
   "source": [
    "def prompt_with_prompt_type_3(sample_x, sample_y, no_of_examples):\n",
    "    pred_labels = []\n",
    "\n",
    "    for sample in sample_x:\n",
    "        example = []\n",
    "\n",
    "        label2 = 'shakespearean'\n",
    "       \n",
    "        for i in range(no_of_examples):\n",
    "            english_example = sample_x[i]\n",
    "            shakespearean_example = sample_y[i]\n",
    "            result_example = f'Here is a text: {english_example}, which is not {label2}. Here is a rewrite of the text: {shakespearean_example}, which is {label2}.\\n'\n",
    "            example.append(result_example)\n",
    "\n",
    "        prompt = f'{example}\\nRewrite the following text: {sample} into {label2}.'\n",
    "\n",
    "        input_data = tokenizer(prompt, return_tensors='pt')\n",
    "        input_ids = input_data.input_ids\n",
    "        \n",
    "        output = model.generate(input_ids)\n",
    "        pred_label = tokenizer.decode(output[0])\n",
    "\n",
    "        pred_labels.append(pred_label)\n",
    "    \n",
    "    return pred_labels"
   ]
  },
  {
   "cell_type": "code",
   "execution_count": 58,
   "metadata": {},
   "outputs": [],
   "source": [
    "import re\n",
    "\n",
    "def clean_prediction(pred_label):\n",
    "    pattern = re.compile('<.*?>')\n",
    "    pred_list = []\n",
    "\n",
    "    for pred in pred_label:\n",
    "        pred = re.sub(pattern, '', pred)\n",
    "        pred = pred.strip()\n",
    "        pred = pred.lower()\n",
    "        # print(pred)\n",
    "        pred_list.append(pred)\n",
    "\n",
    "    return pred_list"
   ]
  },
  {
   "cell_type": "markdown",
   "metadata": {},
   "source": [
    "    Prompt Type 1\n"
   ]
  },
  {
   "cell_type": "code",
   "execution_count": 67,
   "metadata": {},
   "outputs": [],
   "source": [
    "def predict_with_few_shot_prompting_prompt_type_1(sample_x, sample_y, train_test_or_val):\n",
    "    pred_labels_n_1 = prompt_with_prompt_type_1(sample_x, sample_y, 1) \n",
    "    pred_labels_n_2 = prompt_with_prompt_type_1(sample_x, sample_y, 2)\n",
    "    pred_labels_n_3 = prompt_with_prompt_type_1(sample_x, sample_y, 3) \n",
    "    pred_labels_n_5 = prompt_with_prompt_type_1(sample_x, sample_y, 5) \n",
    "    pred_labels_n_10 = prompt_with_prompt_type_1(sample_x, sample_y, 10) \n",
    "    \n",
    "    evaluate_meteor_bleu(clean_prediction(pred_labels_n_1), sample_y, \"N 1\", train_test_or_val)\n",
    "    evaluate_meteor_bleu(clean_prediction(pred_labels_n_2), sample_y, \"N 2\", train_test_or_val)\n",
    "    evaluate_meteor_bleu(clean_prediction(pred_labels_n_3), sample_y, \"N 3\", train_test_or_val)\n",
    "    evaluate_meteor_bleu(clean_prediction(pred_labels_n_5), sample_y, \"N 5\", train_test_or_val)\n",
    "    evaluate_meteor_bleu(clean_prediction(pred_labels_n_10), sample_y, \"N 10\", train_test_or_val)"
   ]
  },
  {
   "cell_type": "markdown",
   "metadata": {},
   "source": [
    "    Prompt Type 2"
   ]
  },
  {
   "cell_type": "code",
   "execution_count": 68,
   "metadata": {},
   "outputs": [],
   "source": [
    "def predict_with_few_shot_prompting_prompt_type_2(sample_x, sample_y, train_test_or_val):\n",
    "\n",
    "    pred_labels_n_1 = prompt_with_prompt_type_2(sample_x, sample_y, 1) \n",
    "    pred_labels_n_2 = prompt_with_prompt_type_2(sample_x, sample_y, 2)\n",
    "    pred_labels_n_3 = prompt_with_prompt_type_2(sample_x, sample_y, 3) \n",
    "    pred_labels_n_5 = prompt_with_prompt_type_2(sample_x, sample_y, 5) \n",
    "    pred_labels_n_10 = prompt_with_prompt_type_2(sample_x, sample_y, 10) \n",
    "\n",
    "    evaluate_meteor_bleu(clean_prediction(pred_labels_n_1), sample_y, \"N 1\", train_test_or_val)\n",
    "    evaluate_meteor_bleu(clean_prediction(pred_labels_n_2), sample_y, \"N 2\", train_test_or_val)\n",
    "    evaluate_meteor_bleu(clean_prediction(pred_labels_n_3), sample_y, \"N 3\", train_test_or_val)\n",
    "    evaluate_meteor_bleu(clean_prediction(pred_labels_n_5), sample_y, \"N 5\", train_test_or_val)\n",
    "    evaluate_meteor_bleu(clean_prediction(pred_labels_n_10), sample_y, \"N 10\", train_test_or_val)"
   ]
  },
  {
   "cell_type": "markdown",
   "metadata": {},
   "source": [
    "    Prompt Type 3"
   ]
  },
  {
   "cell_type": "code",
   "execution_count": 59,
   "metadata": {},
   "outputs": [],
   "source": [
    "def predict_with_few_shot_prompting_prompt_type_3(sample_x, sample_y, train_test_or_val):\n",
    "\n",
    "    return prompt_with_prompt_type_3(sample_x, sample_y, 1), prompt_with_prompt_type_3(sample_x, sample_y, 2), prompt_with_prompt_type_3(sample_x, sample_y, 3), prompt_with_prompt_type_3(sample_x, sample_y, 5), prompt_with_prompt_type_3(sample_x, sample_y, 10) \n",
    " \n",
    "    # evaluate_meteor_bleu(clean_prediction(pred_labels_n_1), sample_y, \"N 1\", train_test_or_val)\n",
    "    # evaluate_meteor_bleu(clean_prediction(pred_labels_n_2), sample_y, \"N 2\", train_test_or_val)\n",
    "    # evaluate_meteor_bleu(clean_prediction(pred_labels_n_3), sample_y, \"N 3\", train_test_or_val)\n",
    "    # evaluate_meteor_bleu(clean_prediction(pred_labels_n_5), sample_y, \"N 5\", train_test_or_val)\n",
    "    # evaluate_meteor_bleu(clean_prediction(pred_labels_n_10), sample_y, \"N 10\", train_test_or_val)"
   ]
  },
  {
   "cell_type": "code",
   "execution_count": 69,
   "metadata": {},
   "outputs": [
    {
     "name": "stderr",
     "output_type": "stream",
     "text": [
      "c:\\Users\\Mia\\anaconda3\\Lib\\site-packages\\transformers\\generation\\utils.py:1254: UserWarning: Using the model-agnostic default `max_length` (=20) to control thegeneration length. We recommend setting `max_new_tokens` to control the maximum length of the generation.\n",
      "  warnings.warn(\n"
     ]
    }
   ],
   "source": [
    "predict_with_few_shot_prompting_prompt_type_1(train_x[:100], train_y[:100], \"Train\")"
   ]
  },
  {
   "cell_type": "code",
   "execution_count": null,
   "metadata": {},
   "outputs": [],
   "source": [
    "predict_with_few_shot_prompting_prompt_type_2(train_x[:100], train_y[:100], \"Train\")"
   ]
  },
  {
   "cell_type": "code",
   "execution_count": 61,
   "metadata": {},
   "outputs": [
    {
     "name": "stderr",
     "output_type": "stream",
     "text": [
      "c:\\Users\\Mia\\anaconda3\\Lib\\site-packages\\transformers\\generation\\utils.py:1254: UserWarning: Using the model-agnostic default `max_length` (=20) to control thegeneration length. We recommend setting `max_new_tokens` to control the maximum length of the generation.\n",
      "  warnings.warn(\n"
     ]
    }
   ],
   "source": [
    "pred_labels_n_1, pred_labels_n_2, pred_labels_n_3, pred_labels_n_5, pred_labels_n_10 = predict_with_few_shot_prompting_prompt_type_3(train_x[:100], train_y[:100], \"Train\")"
   ]
  },
  {
   "cell_type": "code",
   "execution_count": 65,
   "metadata": {},
   "outputs": [
    {
     "name": "stdout",
     "output_type": "stream",
     "text": [
      "Train: N 1\n",
      "BLEU score: 0.09310531794506956\n",
      "Meteor score: 2.8653\n",
      "\n",
      "Train: N 2\n",
      "BLEU score: 0.022241370569023488\n",
      "Meteor score: 0.0\n",
      "\n",
      "Train: N 3\n",
      "BLEU score: 0.07677909691148554\n",
      "Meteor score: 2.3707\n",
      "\n",
      "Train: N 5\n",
      "BLEU score: 0.08471203815341927\n",
      "Meteor score: 2.7043999999999997\n",
      "\n",
      "Train: N 10\n",
      "BLEU score: 0.0891663972632699\n",
      "Meteor score: 3.0614999999999997\n",
      "\n"
     ]
    }
   ],
   "source": [
    "evaluate_meteor_bleu(clean_prediction(pred_labels_n_1), train_y[:100], \"N 1\", \"Train\")\n",
    "evaluate_meteor_bleu(clean_prediction(pred_labels_n_2), train_y[:100], \"N 2\", \"Train\")\n",
    "evaluate_meteor_bleu(clean_prediction(pred_labels_n_3), train_y[:100], \"N 3\", \"Train\")\n",
    "evaluate_meteor_bleu(clean_prediction(pred_labels_n_5), train_y[:100], \"N 5\", \"Train\")\n",
    "evaluate_meteor_bleu(clean_prediction(pred_labels_n_10), train_y[:100], \"N 10\", \"Train\")"
   ]
  }
 ],
 "metadata": {
  "kernelspec": {
   "display_name": "base",
   "language": "python",
   "name": "python3"
  },
  "language_info": {
   "codemirror_mode": {
    "name": "ipython",
    "version": 3
   },
   "file_extension": ".py",
   "mimetype": "text/x-python",
   "name": "python",
   "nbconvert_exporter": "python",
   "pygments_lexer": "ipython3",
   "version": "3.11.5"
  }
 },
 "nbformat": 4,
 "nbformat_minor": 2
}
