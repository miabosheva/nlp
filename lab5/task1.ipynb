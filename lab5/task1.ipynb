{
 "cells": [
  {
   "cell_type": "code",
   "execution_count": 79,
   "metadata": {},
   "outputs": [],
   "source": [
    "from datasets import load_dataset\n",
    "import torch\n",
    "from tensorflow.keras.layers import Input, Dense\n",
    "from tensorflow.keras.models import Model\n",
    "from tensorflow.keras.optimizers import Adam\n",
    "from tensorflow.keras.losses import mean_squared_error\n",
    "from datasets import load_dataset\n",
    "from transformers import BertTokenizer, BertForQuestionAnswering\n",
    "from sklearn.metrics.pairwise import cosine_similarity\n",
    "import numpy as np"
   ]
  },
  {
   "cell_type": "code",
   "execution_count": 75,
   "metadata": {},
   "outputs": [
    {
     "name": "stderr",
     "output_type": "stream",
     "text": [
      "Found cached dataset parquet (C:/Users/Mia/.cache/huggingface/datasets/parquet/commonsense_qa-50e8830ccc2bd978/0.0.0/2a3b91fbd88a2c90d1dbbb32b460cf621d31bd5b05b934492fdef7d8d6f236ec)\n"
     ]
    },
    {
     "data": {
      "application/vnd.jupyter.widget-view+json": {
       "model_id": "1f25f9ccc7b94e9ea25f0d759e2d4303",
       "version_major": 2,
       "version_minor": 0
      },
      "text/plain": [
       "  0%|          | 0/3 [00:00<?, ?it/s]"
      ]
     },
     "metadata": {},
     "output_type": "display_data"
    }
   ],
   "source": [
    "dataset = load_dataset(\"commonsense_qa\")"
   ]
  },
  {
   "cell_type": "code",
   "execution_count": 76,
   "metadata": {},
   "outputs": [
    {
     "name": "stderr",
     "output_type": "stream",
     "text": [
      "Found cached dataset generics_kb (C:/Users/Mia/.cache/huggingface/datasets/generics_kb/generics_kb/1.0.0/9b41cde494db24f842a9260588bcfb2e3a257364568666ef240e98c70fb0e709)\n"
     ]
    },
    {
     "data": {
      "application/vnd.jupyter.widget-view+json": {
       "model_id": "863d36a98a9941f7852c4d2bbb525971",
       "version_major": 2,
       "version_minor": 0
      },
      "text/plain": [
       "  0%|          | 0/1 [00:00<?, ?it/s]"
      ]
     },
     "metadata": {},
     "output_type": "display_data"
    }
   ],
   "source": [
    "generics_kb = load_dataset(\"generics_kb\", \"generics_kb\")"
   ]
  },
  {
   "cell_type": "code",
   "execution_count": 80,
   "metadata": {},
   "outputs": [],
   "source": [
    "questions = dataset['train']['question']\n",
    "choices = [choice['text'] for choice in dataset['train']['choices']]\n",
    "answers = dataset['train']['answerKey']"
   ]
  },
  {
   "cell_type": "code",
   "execution_count": 81,
   "metadata": {},
   "outputs": [],
   "source": [
    "kb_sentences = generics_kb['train']['generic_sentence']"
   ]
  },
  {
   "cell_type": "code",
   "execution_count": 111,
   "metadata": {},
   "outputs": [
    {
     "name": "stderr",
     "output_type": "stream",
     "text": [
      "Some weights of the PyTorch model were not used when initializing the TF 2.0 model TFBertModel: ['cls.predictions.bias', 'cls.predictions.transform.dense.weight', 'cls.predictions.transform.LayerNorm.bias', 'cls.seq_relationship.weight', 'cls.predictions.transform.dense.bias', 'cls.predictions.transform.LayerNorm.weight', 'cls.seq_relationship.bias']\n",
      "- This IS expected if you are initializing TFBertModel from a PyTorch model trained on another task or with another architecture (e.g. initializing a TFBertForSequenceClassification model from a BertForPreTraining model).\n",
      "- This IS NOT expected if you are initializing TFBertModel from a PyTorch model that you expect to be exactly identical (e.g. initializing a TFBertForSequenceClassification model from a BertForSequenceClassification model).\n",
      "All the weights of TFBertModel were initialized from the PyTorch model.\n",
      "If your task is similar to the task the model of the checkpoint was trained on, you can already use TFBertModel for predictions without further training.\n"
     ]
    }
   ],
   "source": [
    "# bert_model = TFBertModel.from_pretrained('bert-base-uncased')"
   ]
  },
  {
   "cell_type": "code",
   "execution_count": 115,
   "metadata": {},
   "outputs": [],
   "source": [
    "# input_ids = Input(shape=(100,), name='input_token', dtype='int32')\n",
    "# att_masks = Input(shape=(100,), name='masked_token', dtype='int32')\n",
    "# bert_in = bert_model(input_ids, attention_mask=att_masks)[1]\n",
    "# answer_output = Dense(5, activation='relu', name='answer')(bert_in)"
   ]
  },
  {
   "cell_type": "code",
   "execution_count": 113,
   "metadata": {},
   "outputs": [],
   "source": [
    "# model = Model(inputs=[input_ids, att_masks], outputs=[answer_output])\n",
    "# model.compile(optimizer=Adam(learning_rate=0.01), loss=mean_squared_error, metrics=['accuracy'])"
   ]
  },
  {
   "cell_type": "code",
   "execution_count": 140,
   "metadata": {},
   "outputs": [
    {
     "name": "stderr",
     "output_type": "stream",
     "text": [
      "Some weights of BertForQuestionAnswering were not initialized from the model checkpoint at bert-base-uncased and are newly initialized: ['qa_outputs.weight', 'qa_outputs.bias']\n",
      "You should probably TRAIN this model on a down-stream task to be able to use it for predictions and inference.\n"
     ]
    }
   ],
   "source": [
    "bert_model = BertForQuestionAnswering.from_pretrained('bert-base-uncased')"
   ]
  },
  {
   "cell_type": "code",
   "execution_count": 114,
   "metadata": {},
   "outputs": [],
   "source": [
    "tokenizer = BertTokenizer.from_pretrained('bert-base-uncased')"
   ]
  },
  {
   "cell_type": "code",
   "execution_count": 83,
   "metadata": {},
   "outputs": [],
   "source": [
    "def compute_semantic_similarity(question_tokens, knowledge_base_tokens):\n",
    "    similarities = [cosine_similarity(\n",
    "        np.mean(tokenizer.encode_plus(question_tokens, return_tensors='pt')['input_ids'].detach().numpy(), axis=1),\n",
    "        np.mean(tokenizer.encode_plus(kb_token, return_tensors='pt')['input_ids'].detach().numpy(), axis=1)\n",
    "    )[0][0] for kb_token in knowledge_base_tokens]\n",
    "\n",
    "    return similarities"
   ]
  },
  {
   "cell_type": "code",
   "execution_count": 84,
   "metadata": {},
   "outputs": [
    {
     "data": {
      "text/plain": [
       "3433000"
      ]
     },
     "execution_count": 84,
     "metadata": {},
     "output_type": "execute_result"
    }
   ],
   "source": [
    "len(kb_sentences)"
   ]
  },
  {
   "cell_type": "code",
   "execution_count": 152,
   "metadata": {},
   "outputs": [],
   "source": [
    "import random\n",
    "# decrease the size of the knowledge base to speed up encoding\n",
    "kb_small = random.sample(kb_sentences, 1000)"
   ]
  },
  {
   "cell_type": "code",
   "execution_count": 110,
   "metadata": {},
   "outputs": [],
   "source": [
    "# Question Tokens Shape: torch.Size([27])\n",
    "# Knowledge Base Tokens Shape: torch.Size([11])"
   ]
  },
  {
   "cell_type": "code",
   "execution_count": 153,
   "metadata": {},
   "outputs": [],
   "source": [
    "max_len = 27"
   ]
  },
  {
   "cell_type": "code",
   "execution_count": 154,
   "metadata": {},
   "outputs": [],
   "source": [
    "knowledge_base_tokens = [tokenizer.encode(sentence, return_tensors='pt')[0] for sentence in kb_small]"
   ]
  },
  {
   "cell_type": "code",
   "execution_count": 158,
   "metadata": {},
   "outputs": [],
   "source": [
    "knowledge_base_tokens_padded = torch.stack([\n",
    "    torch.nn.functional.pad(token, (0, max_len - len(token)))\n",
    "    for token in knowledge_base_tokens\n",
    "])"
   ]
  },
  {
   "cell_type": "code",
   "execution_count": 155,
   "metadata": {},
   "outputs": [],
   "source": [
    "def convert_answer_for_index(i):\n",
    "    answer = answers[i]\n",
    "    converted_answer = choices[i][0]\n",
    "    if answer == 'A':\n",
    "        converted_answer = choices[i][0]\n",
    "    elif answer == 'B':\n",
    "        converted_answer = choices[i][1]\n",
    "    elif answer == 'C':\n",
    "        converted_answer = choices[i][2]\n",
    "    elif answer == 'D':\n",
    "        converted_answer = choices[i][3]\n",
    "    elif answer == 'E':\n",
    "        converted_answer = choices[i][3]\n",
    "    return converted_answer    "
   ]
  },
  {
   "cell_type": "code",
   "execution_count": 156,
   "metadata": {},
   "outputs": [
    {
     "name": "stdout",
     "output_type": "stream",
     "text": [
      "natural habitat\n"
     ]
    }
   ],
   "source": [
    "print(convert_answer_for_index(4))"
   ]
  },
  {
   "cell_type": "code",
   "execution_count": 165,
   "metadata": {},
   "outputs": [],
   "source": [
    "pred = []\n",
    "hyp = []\n",
    "for i in range(len(questions)):\n",
    "    question = questions[i]\n",
    "    choices_i = choices[i]\n",
    "\n",
    "    question_tokens = tokenizer.encode(question, return_tensors='pt')[0]\n",
    "    question_tokens = torch.nn.functional.pad(question_tokens, (0, max_len - len(question_tokens)))\n",
    "\n",
    "    # print(\"Question Tokens Shape:\", question_tokens.shape)\n",
    "    # print(\"Knowledge Base Tokens Shape:\", knowledge_base_tokens_padded[0].shape)\n",
    "\n",
    "    similarities = [cosine_similarity(question_tokens.detach().reshape(1, -1).numpy(), kb_token.reshape(1, -1).detach().numpy())[0][0] for kb_token in knowledge_base_tokens_padded]\n",
    "\n",
    "    most_similar_index = np.argmax(similarities)\n",
    "    selected_kb_sentence = kb_sentences[most_similar_index]\n",
    "\n",
    "    input_text = f\"{question} {selected_kb_sentence}\"\n",
    "\n",
    "    input_tokens = tokenizer.encode(input_text, return_tensors='pt')\n",
    "\n",
    "    input_ids = input_tokens\n",
    "    attention_mask = torch.ones_like(input_tokens)  \n",
    "\n",
    "    with torch.no_grad():\n",
    "        outputs = bert_model(input_ids, attention_mask=attention_mask)\n",
    "        start_scores = outputs.start_logits\n",
    "        end_scores = outputs.end_logits\n",
    "\n",
    "    start_index = torch.argmax(start_scores)\n",
    "    end_index = torch.argmax(end_scores)\n",
    "\n",
    "    predicted_answer = tokenizer.decode(input_ids[0][start_index:end_index+1])\n",
    "\n",
    "    pred.append(predicted_answer)\n",
    "    hyp.append(convert_answer_for_index(i))\n",
    "\n",
    "    # print(\"Question:\", question)\n",
    "    # print(\"Answer:\", predicted_answer)\n",
    "    # print(\"Expected answer: \", convert_answer_for_index(i))"
   ]
  },
  {
   "cell_type": "code",
   "execution_count": null,
   "metadata": {},
   "outputs": [],
   "source": []
  }
 ],
 "metadata": {
  "kernelspec": {
   "display_name": "base",
   "language": "python",
   "name": "python3"
  },
  "language_info": {
   "codemirror_mode": {
    "name": "ipython",
    "version": 3
   },
   "file_extension": ".py",
   "mimetype": "text/x-python",
   "name": "python",
   "nbconvert_exporter": "python",
   "pygments_lexer": "ipython3",
   "version": "3.11.5"
  }
 },
 "nbformat": 4,
 "nbformat_minor": 2
}
